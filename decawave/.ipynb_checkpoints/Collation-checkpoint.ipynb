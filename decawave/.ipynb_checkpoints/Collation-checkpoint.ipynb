{
 "cells": [
  {
   "cell_type": "code",
   "execution_count": 1,
   "metadata": {},
   "outputs": [],
   "source": [
    "import pickle\n",
    "import math\n",
    "import os"
   ]
  },
  {
   "cell_type": "code",
   "execution_count": 4,
   "metadata": {},
   "outputs": [
    {
     "data": {
      "text/plain": [
       "'/mnt/c/Users/yashg/Desktop/repos/decawave'"
      ]
     },
     "execution_count": 4,
     "metadata": {},
     "output_type": "execute_result"
    }
   ],
   "source": [
    "cwd = os.getcwd()\n",
    "cwd"
   ]
  },
  {
   "cell_type": "code",
   "execution_count": 5,
   "metadata": {},
   "outputs": [
    {
     "data": {
      "text/plain": [
       "'static_measure_1.pickle'"
      ]
     },
     "execution_count": 5,
     "metadata": {},
     "output_type": "execute_result"
    }
   ],
   "source": [
    "def static_filename(num): \n",
    "    return \"static_measure_\" + str(num) + \".pickle\"\n",
    "\n",
    "static_filename(1)"
   ]
  },
  {
   "cell_type": "code",
   "execution_count": 6,
   "metadata": {},
   "outputs": [
    {
     "data": {
      "text/plain": [
       "{'0288': {'dist': 3.6419999999999995, 'numMeasure': 5},\n",
       " '1934': {'dist': 16.374000000000002, 'numMeasure': 5},\n",
       " '872D': {'dist': 16.612000000000002, 'numMeasure': 5},\n",
       " 'CB35': {'dist': 34.4175, 'numMeasure': 4}}"
      ]
     },
     "execution_count": 6,
     "metadata": {},
     "output_type": "execute_result"
    }
   ],
   "source": [
    "with open(static_filename(1), \"rb\") as infile:\n",
    "    static_measure = pickle.load(infile)\n",
    "    \n",
    "static_measure"
   ]
  },
  {
   "cell_type": "code",
   "execution_count": 7,
   "metadata": {},
   "outputs": [
    {
     "name": "stdout",
     "output_type": "stream",
     "text": [
      "Nothing found for: 0\n",
      "Nothing found for: 4\n",
      "Nothing found for: 5\n",
      "Nothing found for: 6\n",
      "Nothing found for: 7\n",
      "Nothing found for: 8\n",
      "Nothing found for: 9\n",
      "Nothing found for: 10\n",
      "Nothing found for: 11\n",
      "Nothing found for: 12\n",
      "Nothing found for: 13\n",
      "Nothing found for: 14\n",
      "Nothing found for: 15\n",
      "Nothing found for: 16\n",
      "Nothing found for: 17\n",
      "Nothing found for: 18\n",
      "Nothing found for: 19\n",
      "Nothing found for: 20\n",
      "Nothing found for: 21\n",
      "Nothing found for: 22\n",
      "Nothing found for: 23\n",
      "Nothing found for: 24\n",
      "Nothing found for: 25\n",
      "Nothing found for: 26\n",
      "Nothing found for: 27\n",
      "Nothing found for: 28\n",
      "Nothing found for: 29\n",
      "Nothing found for: 41\n",
      "Nothing found for: 42\n",
      "Nothing found for: 43\n",
      "Nothing found for: 44\n"
     ]
    }
   ],
   "source": [
    "data = {}\n",
    "for i in range(50):\n",
    "    try: \n",
    "        with open(static_filename(i), \"rb\") as infile:\n",
    "            data[i] = pickle.load(infile)  \n",
    "    except:\n",
    "        print(\"Nothing found for: \" + str(i))"
   ]
  },
  {
   "cell_type": "code",
   "execution_count": 9,
   "metadata": {},
   "outputs": [],
   "source": [
    "anchor_data = {}\n",
    "for point, dists in data.items():\n",
    "    for anch, this_data in dists.items():\n",
    "        if anch not in anchor_data:\n",
    "            anchor_data[anch] = {}\n",
    "        this_dist = this_data['dist']\n",
    "        thisNumMeasure = this_data['numMeasure']\n",
    "        if this_dist not in anchor_data[anch]:\n",
    "            anchor_data[anch][this_dist] = [(point, thisNumMeasure)]\n",
    "        else: \n",
    "            if (point, thisNumMeasure) not in anchor_data[anch][this_dist]:\n",
    "                anchor_data[anch][this_dist].append( (point, thisNumMeasure) )"
   ]
  },
  {
   "cell_type": "code",
   "execution_count": 10,
   "metadata": {},
   "outputs": [
    {
     "data": {
      "text/plain": [
       "{'0288': {2.602: [(48, 5)],\n",
       "  3.2619999999999996: [(47, 5)],\n",
       "  3.6419999999999995: [(1, 5)],\n",
       "  3.8600000000000003: [(49, 5)],\n",
       "  4.3839999999999995: [(2, 5)],\n",
       "  4.648000000000001: [(3, 5)],\n",
       "  7.414999999999999: [(46, 4)],\n",
       "  9.556000000000001: [(45, 5)],\n",
       "  12.614: [(40, 5)],\n",
       "  14.284: [(39, 5)],\n",
       "  16.228: [(38, 5)],\n",
       "  17.452: [(37, 5)],\n",
       "  21.048: [(36, 5)],\n",
       "  22.998: [(35, 5)],\n",
       "  24.12: [(34, 3)],\n",
       "  28.085: [(33, 4)],\n",
       "  29.8325: [(32, 4)],\n",
       "  31.058000000000003: [(31, 5)],\n",
       "  31.951999999999998: [(30, 5)]},\n",
       " '1485': {3.248: [(2, 5)],\n",
       "  3.5099999999999993: [(49, 5)],\n",
       "  4.098000000000001: [(3, 5)],\n",
       "  25.76: [(34, 1)]},\n",
       " '1934': {2.5140000000000002: [(39, 5)],\n",
       "  2.7960000000000003: [(38, 5)],\n",
       "  3.2619999999999996: [(40, 5)],\n",
       "  3.724: [(37, 5)],\n",
       "  6.026000000000001: [(45, 5)],\n",
       "  6.678: [(36, 5)],\n",
       "  7.944999999999999: [(46, 4)],\n",
       "  8.538: [(35, 5)],\n",
       "  9.74: [(34, 5)],\n",
       "  12.722: [(47, 5)],\n",
       "  13.7425: [(33, 4)],\n",
       "  14.823333333333332: [(48, 3)],\n",
       "  15.581999999999999: [(32, 5)],\n",
       "  16.374000000000002: [(1, 5)],\n",
       "  16.393333333333334: [(49, 3)],\n",
       "  16.662: [(31, 5)],\n",
       "  17.62: [(30, 5)]},\n",
       " '872D': {2.4739999999999998: [(39, 5)],\n",
       "  2.676: [(38, 5)],\n",
       "  3.25: [(40, 5)],\n",
       "  3.6800000000000006: [(37, 5)],\n",
       "  6.023999999999999: [(45, 5)],\n",
       "  6.942: [(36, 5)],\n",
       "  7.8025: [(46, 4)],\n",
       "  8.55: [(35, 5)],\n",
       "  9.674000000000001: [(34, 5)],\n",
       "  12.528: [(47, 5)],\n",
       "  13.6225: [(33, 4)],\n",
       "  14.266: [(48, 5)],\n",
       "  15.7325: [(49, 4)],\n",
       "  15.866: [(32, 5)],\n",
       "  16.612000000000002: [(1, 5)],\n",
       "  16.644: [(31, 5)],\n",
       "  17.07: [(2, 2)],\n",
       "  17.580000000000002: [(30, 5)]},\n",
       " 'CB35': {2.626: [(30, 5)],\n",
       "  3.0199999999999996: [(31, 5)],\n",
       "  3.8239999999999994: [(32, 5)],\n",
       "  5.6475: [(33, 4)],\n",
       "  9.062000000000001: [(34, 5)],\n",
       "  10.154000000000002: [(35, 5)],\n",
       "  11.994: [(36, 5)],\n",
       "  15.457999999999998: [(37, 5)],\n",
       "  16.738: [(38, 5)],\n",
       "  18.848: [(39, 5)],\n",
       "  20.298: [(40, 5)],\n",
       "  23.668: [(45, 5)],\n",
       "  25.675: [(46, 4)],\n",
       "  30.642000000000003: [(47, 5)],\n",
       "  32.314: [(48, 5)],\n",
       "  34.4175: [(1, 4)]}}"
      ]
     },
     "execution_count": 10,
     "metadata": {},
     "output_type": "execute_result"
    }
   ],
   "source": [
    "anchor_data"
   ]
  },
  {
   "cell_type": "code",
   "execution_count": 11,
   "metadata": {},
   "outputs": [],
   "source": [
    "with open('point_data_sorted_snd.pickle', 'wb') as outfile:\n",
    "    pickle.dump(anchor_data, outfile)\n",
    "    pass"
   ]
  },
  {
   "cell_type": "code",
   "execution_count": null,
   "metadata": {},
   "outputs": [],
   "source": []
  }
 ],
 "metadata": {
  "kernelspec": {
   "display_name": "Python 3",
   "language": "python",
   "name": "python3"
  },
  "language_info": {
   "codemirror_mode": {
    "name": "ipython",
    "version": 3
   },
   "file_extension": ".py",
   "mimetype": "text/x-python",
   "name": "python",
   "nbconvert_exporter": "python",
   "pygments_lexer": "ipython3",
   "version": "3.6.7"
  }
 },
 "nbformat": 4,
 "nbformat_minor": 2
}
